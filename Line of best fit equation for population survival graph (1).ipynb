{
 "cells": [
  {
   "cell_type": "code",
   "execution_count": 15,
   "id": "cebd72eb",
   "metadata": {},
   "outputs": [
    {
     "data": {
      "image/png": "[encoded data removed]",
      "text/plain": [
       "<Figure size 432x288 with 1 Axes>"
      ]
     },
     "metadata": {
      "needs_background": "light"
     },
     "output_type": "display_data"
    },
    {
     "name": "stdout",
     "output_type": "stream",
     "text": [
      "[2.97666579e+02 2.89258633e-05]\n",
      "Line of best fit equation for population growth graph\n",
      "Y = 297.6665793617041 * e^(-2.8925863289041312e-05 * x)\n"
     ]
    }
   ],
   "source": [
    "import numpy as np\n",
    "import matplotlib.pyplot as plt\n",
    "from scipy import stats\n",
    "import scipy.optimize\n",
    "\n",
    "# Number of poulations needed\n",
    "n_populations  = 1000\n",
    "\n",
    "# Create 1000 replicate population of one individual\n",
    "populations  = np.ones(n_populations)\n",
    "\n",
    "# Number of generations simulated \n",
    "n_generations = 1000\n",
    "\n",
    "# Lists to store data \n",
    "surviving_populations  = []\n",
    "average_populations = []\n",
    "total_populations = []\n",
    "\n",
    "\n",
    "\n",
    "# Simulation process for i generations \n",
    "for i in range(n_generations):\n",
    "    extinct = populations <= 0\n",
    "    surviving_populations.append(len(populations[~extinct]))\n",
    "    average_populations.append(np.mean(populations[~extinct]))\n",
    "    total_populations.append(np.sum(populations[~extinct]))\n",
    "    \n",
    "    for j in range(n_populations):\n",
    "        e = np.random.rand()\n",
    "        if e < 0.5:\n",
    "            populations[j] = populations[j]-1     \n",
    "            \n",
    "        if e > 0.5:\n",
    "            populations[j] = populations[j] * 2\n",
    "            \n",
    " \n",
    "# Plot the results \n",
    "\n",
    "# Population Growth Graph\n",
    "\n",
    "plt.plot(range(n_generations), surviving_populations)\n",
    "plt.title(\"Population growth graph\")\n",
    "plt.xlabel(\"Generation\")\n",
    "plt.ylabel(\"Number of Surviving Populations\")\n",
    "plt.show()\n",
    "\n",
    "f = range(n_generations)\n",
    "\n",
    "def monoExp(x, m, t):\n",
    "    return m * np.exp(-t * x)\n",
    "\n",
    "\n",
    "p0 = (1000, 0)\n",
    "params, cv = scipy.optimize.curve_fit(monoExp, range(n_generations), surviving_populations, p0)\n",
    "m, t = params\n",
    "\n",
    "print(params)\n",
    "\n",
    "print(\"Line of best fit equation for population growth graph\")\n",
    "print(f\"Y = {m} * e^(-{t} * x)\")"
   ]
  }
 ],
 "metadata": {
  "kernelspec": {
   "display_name": "Python 3 (ipykernel)",
   "language": "python",
   "name": "python3"
  },
  "language_info": {
   "codemirror_mode": {
    "name": "ipython",
    "version": 3
   },
   "file_extension": ".py",
   "mimetype": "text/x-python",
   "name": "python",
   "nbconvert_exporter": "python",
   "pygments_lexer": "ipython3",
   "version": "3.9.12"
  }
 },
 "nbformat": 4,
 "nbformat_minor": 5
}
