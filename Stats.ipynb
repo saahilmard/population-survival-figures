{
 "cells": [
  {
   "cell_type": "code",
   "execution_count": 1,
   "id": "a33bd8a7",
   "metadata": {},
   "outputs": [
    {
     "name": "stdout",
     "output_type": "stream",
     "text": [
      "Expected value of the generations it wil take for all populations to go extinct \n",
      "2736.00 \n",
      "\n",
      "Standard deviation of the generations it will take for all populations to go extinct \n",
      "2045.09 \n",
      "\n",
      "kyrtosis of he generations it will take for all populations to go extinct relative to gaussian distribution \n",
      "-0.39\n"
     ]
    }
   ],
   "source": [
    "import numpy as np\n",
    "from scipy.stats import kurtosis\n",
    "import statistics\n",
    "\n",
    "\n",
    "# array with values of 30 simulations\n",
    "generations_survived = [1104,3402,5193,2113,998,1005,692,732,5768,3336,1725,5327,1737,390,1190,6023,432,1790,1843,4599,3364,1343,4421,1942,2295,2070,1274,6754,7638,1580]\n",
    "\n",
    "\n",
    "mean = np.mean(generations_survived)\n",
    "print(\"Expected value of the generations it wil take for all populations to go extinct \")\n",
    "print(f'{mean:.2f} \\n')\n",
    "\n",
    "\n",
    "standard_deviation = statistics.stdev(generations_survived)\n",
    "print(\"Standard deviation of the generations it will take for all populations to go extinct \")\n",
    "print(f'{standard_deviation:.2f} \\n')\n",
    "\n",
    "\n",
    "kurtosis = kurtosis(generations_survived)\n",
    "print(\"kurtosis of the generations it will take for all populations to go extinct relative to gaussian distribution \")\n",
    "print(f'{kurtosis:.2f}')"
   ]
  }
 ],
 "metadata": {
  "kernelspec": {
   "display_name": "Python 3 (ipykernel)",
   "language": "python",
   "name": "python3"
  },
  "language_info": {
   "codemirror_mode": {
    "name": "ipython",
    "version": 3
   },
   "file_extension": ".py",
   "mimetype": "text/x-python",
   "name": "python",
   "nbconvert_exporter": "python",
   "pygments_lexer": "ipython3",
   "version": "3.9.12"
  }
 },
 "nbformat": 4,
 "nbformat_minor": 5
}
